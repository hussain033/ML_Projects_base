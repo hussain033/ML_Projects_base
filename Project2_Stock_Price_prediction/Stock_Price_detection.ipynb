{
  "cells": [
    {
      "cell_type": "markdown",
      "metadata": {
        "id": "view-in-github",
        "colab_type": "text"
      },
      "source": [
        "<a href=\"https://colab.research.google.com/github/hussain033/ML_Projects_base/blob/main/Stock_Price_detection.ipynb\" target=\"_parent\"><img src=\"https://colab.research.google.com/assets/colab-badge.svg\" alt=\"Open In Colab\"/></a>"
      ]
    },
    {
      "cell_type": "markdown",
      "metadata": {
        "id": "cZAt510TW0aD"
      },
      "source": [
        "# Stock Price Detection #\n",
        "**using Multi linear regression**"
      ]
    },
    {
      "cell_type": "markdown",
      "metadata": {
        "id": "vSEkjThzW0aI"
      },
      "source": [
        "###First Import the Packages###"
      ]
    },
    {
      "cell_type": "code",
      "execution_count": 1,
      "metadata": {
        "id": "F7y_6_IJW0aK"
      },
      "outputs": [],
      "source": [
        "import pandas as pd\n",
        "import numpy as np\n",
        "import matplotlib.pyplot as plt\n",
        "from sklearn.linear_model import LinearRegression\n",
        "from sklearn.model_selection import train_test_split\n",
        "from sklearn.metrics import r2_score,mean_squared_error"
      ]
    },
    {
      "cell_type": "markdown",
      "metadata": {
        "id": "soo9_BKnW0aN"
      },
      "source": [
        "###Importing and cleaning the data###"
      ]
    },
    {
      "cell_type": "code",
      "execution_count": 2,
      "metadata": {
        "id": "xYC3f1c4W0aS",
        "colab": {
          "base_uri": "https://localhost:8080/",
          "height": 236
        },
        "outputId": "e4a6524a-b89c-48c6-8ac4-3e6bf315527c"
      },
      "outputs": [
        {
          "output_type": "execute_result",
          "data": {
            "text/plain": [
              "         Date       Open   High        Low      Close\n",
              "0  2010-06-29  19.000000  25.00  17.540001  23.889999\n",
              "1  2010-06-30  25.790001  30.42  23.299999  23.830000\n",
              "2  2010-07-01  25.000000  25.92  20.270000  21.959999\n",
              "3  2010-07-02  23.000000  23.10  18.709999  19.200001\n",
              "4  2010-07-06  20.000000  20.00  15.830000  16.110001"
            ],
            "text/html": [
              "\n",
              "  <div id=\"df-d684b272-663e-431e-92b8-26653ee19fc7\">\n",
              "    <div class=\"colab-df-container\">\n",
              "      <div>\n",
              "<style scoped>\n",
              "    .dataframe tbody tr th:only-of-type {\n",
              "        vertical-align: middle;\n",
              "    }\n",
              "\n",
              "    .dataframe tbody tr th {\n",
              "        vertical-align: top;\n",
              "    }\n",
              "\n",
              "    .dataframe thead th {\n",
              "        text-align: right;\n",
              "    }\n",
              "</style>\n",
              "<table border=\"1\" class=\"dataframe\">\n",
              "  <thead>\n",
              "    <tr style=\"text-align: right;\">\n",
              "      <th></th>\n",
              "      <th>Date</th>\n",
              "      <th>Open</th>\n",
              "      <th>High</th>\n",
              "      <th>Low</th>\n",
              "      <th>Close</th>\n",
              "    </tr>\n",
              "  </thead>\n",
              "  <tbody>\n",
              "    <tr>\n",
              "      <th>0</th>\n",
              "      <td>2010-06-29</td>\n",
              "      <td>19.000000</td>\n",
              "      <td>25.00</td>\n",
              "      <td>17.540001</td>\n",
              "      <td>23.889999</td>\n",
              "    </tr>\n",
              "    <tr>\n",
              "      <th>1</th>\n",
              "      <td>2010-06-30</td>\n",
              "      <td>25.790001</td>\n",
              "      <td>30.42</td>\n",
              "      <td>23.299999</td>\n",
              "      <td>23.830000</td>\n",
              "    </tr>\n",
              "    <tr>\n",
              "      <th>2</th>\n",
              "      <td>2010-07-01</td>\n",
              "      <td>25.000000</td>\n",
              "      <td>25.92</td>\n",
              "      <td>20.270000</td>\n",
              "      <td>21.959999</td>\n",
              "    </tr>\n",
              "    <tr>\n",
              "      <th>3</th>\n",
              "      <td>2010-07-02</td>\n",
              "      <td>23.000000</td>\n",
              "      <td>23.10</td>\n",
              "      <td>18.709999</td>\n",
              "      <td>19.200001</td>\n",
              "    </tr>\n",
              "    <tr>\n",
              "      <th>4</th>\n",
              "      <td>2010-07-06</td>\n",
              "      <td>20.000000</td>\n",
              "      <td>20.00</td>\n",
              "      <td>15.830000</td>\n",
              "      <td>16.110001</td>\n",
              "    </tr>\n",
              "  </tbody>\n",
              "</table>\n",
              "</div>\n",
              "      <button class=\"colab-df-convert\" onclick=\"convertToInteractive('df-d684b272-663e-431e-92b8-26653ee19fc7')\"\n",
              "              title=\"Convert this dataframe to an interactive table.\"\n",
              "              style=\"display:none;\">\n",
              "        \n",
              "  <svg xmlns=\"http://www.w3.org/2000/svg\" height=\"24px\"viewBox=\"0 0 24 24\"\n",
              "       width=\"24px\">\n",
              "    <path d=\"M0 0h24v24H0V0z\" fill=\"none\"/>\n",
              "    <path d=\"M18.56 5.44l.94 2.06.94-2.06 2.06-.94-2.06-.94-.94-2.06-.94 2.06-2.06.94zm-11 1L8.5 8.5l.94-2.06 2.06-.94-2.06-.94L8.5 2.5l-.94 2.06-2.06.94zm10 10l.94 2.06.94-2.06 2.06-.94-2.06-.94-.94-2.06-.94 2.06-2.06.94z\"/><path d=\"M17.41 7.96l-1.37-1.37c-.4-.4-.92-.59-1.43-.59-.52 0-1.04.2-1.43.59L10.3 9.45l-7.72 7.72c-.78.78-.78 2.05 0 2.83L4 21.41c.39.39.9.59 1.41.59.51 0 1.02-.2 1.41-.59l7.78-7.78 2.81-2.81c.8-.78.8-2.07 0-2.86zM5.41 20L4 18.59l7.72-7.72 1.47 1.35L5.41 20z\"/>\n",
              "  </svg>\n",
              "      </button>\n",
              "      \n",
              "  <style>\n",
              "    .colab-df-container {\n",
              "      display:flex;\n",
              "      flex-wrap:wrap;\n",
              "      gap: 12px;\n",
              "    }\n",
              "\n",
              "    .colab-df-convert {\n",
              "      background-color: #E8F0FE;\n",
              "      border: none;\n",
              "      border-radius: 50%;\n",
              "      cursor: pointer;\n",
              "      display: none;\n",
              "      fill: #1967D2;\n",
              "      height: 32px;\n",
              "      padding: 0 0 0 0;\n",
              "      width: 32px;\n",
              "    }\n",
              "\n",
              "    .colab-df-convert:hover {\n",
              "      background-color: #E2EBFA;\n",
              "      box-shadow: 0px 1px 2px rgba(60, 64, 67, 0.3), 0px 1px 3px 1px rgba(60, 64, 67, 0.15);\n",
              "      fill: #174EA6;\n",
              "    }\n",
              "\n",
              "    [theme=dark] .colab-df-convert {\n",
              "      background-color: #3B4455;\n",
              "      fill: #D2E3FC;\n",
              "    }\n",
              "\n",
              "    [theme=dark] .colab-df-convert:hover {\n",
              "      background-color: #434B5C;\n",
              "      box-shadow: 0px 1px 3px 1px rgba(0, 0, 0, 0.15);\n",
              "      filter: drop-shadow(0px 1px 2px rgba(0, 0, 0, 0.3));\n",
              "      fill: #FFFFFF;\n",
              "    }\n",
              "  </style>\n",
              "\n",
              "      <script>\n",
              "        const buttonEl =\n",
              "          document.querySelector('#df-d684b272-663e-431e-92b8-26653ee19fc7 button.colab-df-convert');\n",
              "        buttonEl.style.display =\n",
              "          google.colab.kernel.accessAllowed ? 'block' : 'none';\n",
              "\n",
              "        async function convertToInteractive(key) {\n",
              "          const element = document.querySelector('#df-d684b272-663e-431e-92b8-26653ee19fc7');\n",
              "          const dataTable =\n",
              "            await google.colab.kernel.invokeFunction('convertToInteractive',\n",
              "                                                     [key], {});\n",
              "          if (!dataTable) return;\n",
              "\n",
              "          const docLinkHtml = 'Like what you see? Visit the ' +\n",
              "            '<a target=\"_blank\" href=https://colab.research.google.com/notebooks/data_table.ipynb>data table notebook</a>'\n",
              "            + ' to learn more about interactive tables.';\n",
              "          element.innerHTML = '';\n",
              "          dataTable['output_type'] = 'display_data';\n",
              "          await google.colab.output.renderOutput(dataTable, element);\n",
              "          const docLink = document.createElement('div');\n",
              "          docLink.innerHTML = docLinkHtml;\n",
              "          element.appendChild(docLink);\n",
              "        }\n",
              "      </script>\n",
              "    </div>\n",
              "  </div>\n",
              "  "
            ]
          },
          "metadata": {},
          "execution_count": 2
        }
      ],
      "source": [
        "url = 'https://raw.githubusercontent.com/hussain033/Datasets/main/TSLA.csv?token=GHSAT0AAAAAABZFRIPRVCRJMWLGNSUGDQUUYZZPKNA'\n",
        "df = pd.read_csv(url)\n",
        "df.drop(['Volume','Adj Close'],axis = 1,inplace = True)\n",
        "df.head()"
      ]
    },
    {
      "cell_type": "markdown",
      "metadata": {
        "id": "kcN-j_aOW0aX"
      },
      "source": [
        "###Split Training and Testing Data###"
      ]
    },
    {
      "cell_type": "code",
      "execution_count": 3,
      "metadata": {
        "id": "zftYEbrzW0aY"
      },
      "outputs": [],
      "source": [
        "x = df.drop(['Close','Date'],axis = 1)\n",
        "y = df['Close']\n",
        "x_train, x_test, y_train, y_test = train_test_split(x, y, test_size = 0.3, random_state = 35)"
      ]
    },
    {
      "cell_type": "markdown",
      "source": [
        "###Training the Model###"
      ],
      "metadata": {
        "id": "_LXlW9NamEdQ"
      }
    },
    {
      "cell_type": "code",
      "execution_count": 4,
      "metadata": {
        "id": "rKl9wcEMW0aZ",
        "outputId": "e865d225-9725-4d15-e01f-d5484242cc8a",
        "colab": {
          "base_uri": "https://localhost:8080/"
        }
      },
      "outputs": [
        {
          "output_type": "execute_result",
          "data": {
            "text/plain": [
              "LinearRegression()"
            ]
          },
          "metadata": {},
          "execution_count": 4
        }
      ],
      "source": [
        "lr = LinearRegression()\n",
        "lr.fit(x_train,y_train)"
      ]
    },
    {
      "cell_type": "markdown",
      "source": [
        "###Testing the Model###"
      ],
      "metadata": {
        "id": "swJ8r0QPm14u"
      }
    },
    {
      "cell_type": "code",
      "execution_count": 5,
      "metadata": {
        "id": "jTz09uGmW0ab",
        "outputId": "dc3e2062-4f9e-450e-b9aa-b1e156c462a2",
        "colab": {
          "base_uri": "https://localhost:8080/"
        }
      },
      "outputs": [
        {
          "output_type": "stream",
          "name": "stdout",
          "text": [
            "              0           1\n",
            "0    202.710199  201.039993\n",
            "1     20.077743   20.240000\n",
            "2     32.365297   32.189999\n",
            "3    173.610409  173.309998\n",
            "4    326.414914  328.910004\n",
            "..          ...         ...\n",
            "720   29.660652   29.600000\n",
            "721  235.933063  233.270004\n",
            "722  262.324224  261.970001\n",
            "723  223.523063  223.639999\n",
            "724   34.125276   34.279999\n",
            "\n",
            "[725 rows x 2 columns]\n"
          ]
        }
      ],
      "source": [
        "Y_hat = lr.predict(x_test)\n",
        "Y_hat1 = pd.DataFrame(Y_hat)\n",
        "y_test = y_test.reset_index(drop = True)\n",
        "print(pd.concat([Y_hat1,y_test],axis = 1,ignore_index=True))\n"
      ]
    },
    {
      "cell_type": "code",
      "source": [
        "b = lr.intercept_\n",
        "m = lr.coef_\n",
        "print(m,b)"
      ],
      "metadata": {
        "colab": {
          "base_uri": "https://localhost:8080/"
        },
        "id": "66I6zSozngmy",
        "outputId": "ddc6d724-f28b-4c5c-d3e6-b89049e7de7e"
      },
      "execution_count": 6,
      "outputs": [
        {
          "output_type": "stream",
          "name": "stdout",
          "text": [
            "[-0.66024874  0.90575152  0.75276296] -0.03171650994789843\n"
          ]
        }
      ]
    },
    {
      "cell_type": "markdown",
      "source": [
        "###Evaluating The Model###"
      ],
      "metadata": {
        "id": "FXA_NJ6JpPmV"
      }
    },
    {
      "cell_type": "code",
      "source": [
        "#Calculating the R Squared\n",
        "r2_val = r2_score(y_test,Y_hat)\n",
        "print(r2_val)"
      ],
      "metadata": {
        "colab": {
          "base_uri": "https://localhost:8080/"
        },
        "id": "1A2AhqNhnYPK",
        "outputId": "2ec66e17-a141-42d6-bf73-6df783e86873"
      },
      "execution_count": 7,
      "outputs": [
        {
          "output_type": "stream",
          "name": "stdout",
          "text": [
            "0.9997414235477073\n"
          ]
        }
      ]
    },
    {
      "cell_type": "code",
      "source": [
        "#calculating Mean Squared Error\n",
        "mse = mean_squared_error(y_test,Y_hat)\n",
        "print(mse)"
      ],
      "metadata": {
        "colab": {
          "base_uri": "https://localhost:8080/"
        },
        "id": "LQ0R2zT1pVJG",
        "outputId": "b26150bf-e162-4d15-d12c-3c3b78a5f00b"
      },
      "execution_count": 8,
      "outputs": [
        {
          "output_type": "stream",
          "name": "stdout",
          "text": [
            "3.748604426182056\n"
          ]
        }
      ]
    },
    {
      "cell_type": "markdown",
      "source": [
        "###Visualizing the Predicted Values##"
      ],
      "metadata": {
        "id": "I6mrryDqyfxe"
      }
    },
    {
      "cell_type": "code",
      "source": [
        "plt.plot(x_test['Open'],Y_hat,color='y',label = 'Open')\n",
        "plt.plot(x_test['Low'],Y_hat,color='r',label = 'Low')\n",
        "plt.plot(x_test['High'],Y_hat,color='b',label = 'High')\n",
        "plt.legend()\n",
        "plt.show()"
      ],
      "metadata": {
        "colab": {
          "base_uri": "https://localhost:8080/",
          "height": 265
        },
        "id": "FP28LfkjBc9v",
        "outputId": "25711fd3-228e-4ee8-dea6-f979760144e2"
      },
      "execution_count": 9,
      "outputs": [
        {
          "output_type": "display_data",
          "data": {
            "text/plain": [
              "<Figure size 432x288 with 1 Axes>"
            ],
            "image/png": "[encoded data removed]"
          },
          "metadata": {
            "needs_background": "light"
          }
        }
      ]
    },
    {
      "cell_type": "markdown",
      "source": [
        "###Testing the Model On Recent Stock Data###\n",
        "2022 Tesla Stock Data"
      ],
      "metadata": {
        "id": "uJgPYpraaWxG"
      }
    },
    {
      "cell_type": "code",
      "source": [
        "#Testing on new data\n",
        "new = pd.read_csv('https://raw.githubusercontent.com/hussain033/Datasets/main/New_Stock_TSLA.csv')\n",
        "new_x = new.drop(['Close'],axis = 1)\n",
        "new_y = new['Close']\n",
        "new_pred = lr.predict(new_x)\n",
        "new_pred"
      ],
      "metadata": {
        "colab": {
          "base_uri": "https://localhost:8080/"
        },
        "id": "CZFdwMdJZCHB",
        "outputId": "b1526f15-b755-4c65-dc8e-568bf641f1b5"
      },
      "execution_count": 12,
      "outputs": [
        {
          "output_type": "execute_result",
          "data": {
            "text/plain": [
              "array([237.21948228, 249.96994895, 244.46993744, 271.41872122,\n",
              "       270.26210732, 283.77167361, 282.92582079, 281.28717292,\n",
              "       276.11356523, 290.03468034, 306.94815438, 311.15977105,\n",
              "       306.64509886, 299.75368292, 294.55429249, 304.24630671,\n",
              "       298.22533818, 287.04834301, 281.69763453, 269.94924744,\n",
              "       272.68456846, 271.76405005, 274.04039659, 276.43449761])"
            ]
          },
          "metadata": {},
          "execution_count": 12
        }
      ]
    },
    {
      "cell_type": "markdown",
      "source": [
        "###Evaluating the model on new data###"
      ],
      "metadata": {
        "id": "d0CHHUPHdzJi"
      }
    },
    {
      "cell_type": "code",
      "source": [
        "#Calculating the R Squared\n",
        "r2_val = r2_score(new_y,new_pred)\n",
        "print(r2_val)"
      ],
      "metadata": {
        "colab": {
          "base_uri": "https://localhost:8080/"
        },
        "id": "QQ-snMlodyc3",
        "outputId": "cc1d0173-8056-402a-a1cf-c916928b722e"
      },
      "execution_count": 14,
      "outputs": [
        {
          "output_type": "stream",
          "name": "stdout",
          "text": [
            "0.9709251656804575\n"
          ]
        }
      ]
    },
    {
      "cell_type": "code",
      "source": [
        "#calculating Mean Squared Error\n",
        "mse = mean_squared_error(new_y,new_pred)\n",
        "print(mse)"
      ],
      "metadata": {
        "colab": {
          "base_uri": "https://localhost:8080/"
        },
        "id": "_Yw-jFuLeG04",
        "outputId": "012bda6e-a02e-4a2c-c511-ee116ff13027"
      },
      "execution_count": 15,
      "outputs": [
        {
          "output_type": "stream",
          "name": "stdout",
          "text": [
            "10.221398164917884\n"
          ]
        }
      ]
    }
  ],
  "metadata": {
    "kernelspec": {
      "display_name": "Python 3 (ipykernel)",
      "language": "python",
      "name": "python3"
    },
    "language_info": {
      "codemirror_mode": {
        "name": "ipython",
        "version": 3
      },
      "file_extension": ".py",
      "mimetype": "text/x-python",
      "name": "python",
      "nbconvert_exporter": "python",
      "pygments_lexer": "ipython3",
      "version": "3.9.7"
    },
    "orig_nbformat": 4,
    "colab": {
      "provenance": [],
      "collapsed_sections": [],
      "include_colab_link": true
    }
  },
  "nbformat": 4,
  "nbformat_minor": 0
}
