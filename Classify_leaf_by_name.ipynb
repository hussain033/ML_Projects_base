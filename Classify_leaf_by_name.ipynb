{
  "nbformat": 4,
  "nbformat_minor": 0,
  "metadata": {
    "colab": {
      "provenance": [],
      "mount_file_id": "1KklJMuhrGXzOtthdhW8keO1UVnVniZnq",
      "authorship_tag": "ABX9TyNUxp4lzCVVMnFqhR2Umwv8",
      "include_colab_link": true
    },
    "kernelspec": {
      "name": "python3",
      "display_name": "Python 3"
    },
    "language_info": {
      "name": "python"
    }
  },
  "cells": [
    {
      "cell_type": "markdown",
      "metadata": {
        "id": "view-in-github",
        "colab_type": "text"
      },
      "source": [
        "<a href=\"https://colab.research.google.com/github/hussain033/ML_Projects_base/blob/main/Classify_leaf_by_name.ipynb\" target=\"_parent\"><img src=\"https://colab.research.google.com/assets/colab-badge.svg\" alt=\"Open In Colab\"/></a>"
      ]
    },
    {
      "cell_type": "markdown",
      "source": [
        "#Leaf Classification - 1#\n",
        "###Classifies Leaf and returns its name###\n",
        "###By using Mobilenetv2 pretrained Model###"
      ],
      "metadata": {
        "id": "5OgH4VqMuY99"
      }
    },
    {
      "cell_type": "markdown",
      "source": [
        "##Importing Libraries##"
      ],
      "metadata": {
        "id": "jbE3yW4kupsF"
      }
    },
    {
      "cell_type": "code",
      "source": [
        "import tensorflow as tf\n",
        "import tensorflow_hub as hub\n",
        "import tensorboard"
      ],
      "metadata": {
        "id": "hEx6scF_upAc"
      },
      "execution_count": null,
      "outputs": []
    },
    {
      "cell_type": "markdown",
      "source": [
        "##Loading Data##"
      ],
      "metadata": {
        "id": "sGslgOf8uud2"
      }
    },
    {
      "cell_type": "code",
      "source": [
        "img_height = 120\n",
        "img_width = 180\n",
        "batch_size = 16"
      ],
      "metadata": {
        "id": "t7ZR28fiut0M"
      },
      "execution_count": null,
      "outputs": []
    },
    {
      "cell_type": "code",
      "source": [
        "train_ds = tf.keras.utils.image_dataset_from_directory(\n",
        "  '/content/drive/MyDrive/Colab Notebooks/Plants/train3',\n",
        "  labels = 'inferred',\n",
        "  seed=123,\n",
        "  image_size=(img_height, img_width),\n",
        "  shuffle = True,\n",
        "  batch_size=batch_size)"
      ],
      "metadata": {
        "colab": {
          "base_uri": "https://localhost:8080/"
        },
        "id": "t1BT0vuFvjyZ",
        "outputId": "30496b0e-c8d3-4622-cd87-475368e868e2"
      },
      "execution_count": null,
      "outputs": [
        {
          "output_type": "stream",
          "name": "stdout",
          "text": [
            "Found 4274 files belonging to 12 classes.\n"
          ]
        }
      ]
    },
    {
      "cell_type": "code",
      "source": [
        "val_data_dir = '/content/drive/MyDrive/Colab Notebooks/Plants/valid3'\n",
        "val_ds = tf.keras.utils.image_dataset_from_directory(\n",
        "  val_data_dir,\n",
        "  labels = 'inferred',\n",
        "  seed=123,\n",
        "  image_size=(img_height, img_width),\n",
        "  shuffle = True,\n",
        "  )"
      ],
      "metadata": {
        "colab": {
          "base_uri": "https://localhost:8080/"
        },
        "id": "ItS71CUpvw-V",
        "outputId": "113a0ac9-2289-4156-be92-e40fc9731efb"
      },
      "execution_count": null,
      "outputs": [
        {
          "output_type": "stream",
          "name": "stdout",
          "text": [
            "Found 110 files belonging to 12 classes.\n"
          ]
        }
      ]
    },
    {
      "cell_type": "code",
      "source": [
        "test_data_dir = '/content/drive/MyDrive/Colab Notebooks/Plants/test3'\n",
        "test_ds = tf.keras.utils.image_dataset_from_directory(\n",
        "  test_data_dir,\n",
        "  labels = 'inferred',\n",
        "  seed=123,\n",
        "  image_size=(img_height, img_width),\n",
        "  )"
      ],
      "metadata": {
        "colab": {
          "base_uri": "https://localhost:8080/"
        },
        "id": "1svz8rOUv6GJ",
        "outputId": "1987747a-d472-4d07-aa7e-d2add98aa46f"
      },
      "execution_count": null,
      "outputs": [
        {
          "output_type": "stream",
          "name": "stdout",
          "text": [
            "Found 110 files belonging to 12 classes.\n"
          ]
        }
      ]
    },
    {
      "cell_type": "markdown",
      "source": [
        "##Pre processing Layer##"
      ],
      "metadata": {
        "id": "uNgN7i4Suywm"
      }
    },
    {
      "cell_type": "code",
      "execution_count": null,
      "metadata": {
        "id": "PNygrVaJuTnk"
      },
      "outputs": [],
      "source": [
        "norm_layer = tf.keras.Sequential([\n",
        "    tf.keras.layers.Resizing(224,224),\n",
        "    tf.keras.layers.Rescaling(1./255)\n",
        "])"
      ]
    },
    {
      "cell_type": "markdown",
      "source": [
        "##Augmentation Layer##"
      ],
      "metadata": {
        "id": "SfRTAkz7u5Oh"
      }
    },
    {
      "cell_type": "code",
      "source": [
        "data_aug = tf.keras.Sequential([\n",
        "    tf.keras.layers.RandomFlip(\"horizontal_and_vertical\"),\n",
        "    tf.keras.layers.RandomRotation(0.2),\n",
        "])"
      ],
      "metadata": {
        "id": "v5QL0nHVu2lo"
      },
      "execution_count": null,
      "outputs": []
    },
    {
      "cell_type": "markdown",
      "source": [
        "##Building Model##"
      ],
      "metadata": {
        "id": "wFjELQ-0u_nm"
      }
    },
    {
      "cell_type": "code",
      "source": [],
      "metadata": {
        "id": "CElLSJGsvSGR"
      },
      "execution_count": null,
      "outputs": []
    },
    {
      "cell_type": "code",
      "source": [
        "Modelnetv2 = \"https://tfhub.dev/google/tf2-preview/mobilenet_v2/feature_vector/4\""
      ],
      "metadata": {
        "id": "4IlZLbq2urdu"
      },
      "execution_count": null,
      "outputs": []
    },
    {
      "cell_type": "code",
      "source": [
        "feature_extractor_model = Modelnetv2"
      ],
      "metadata": {
        "id": "_vr5aRZdvoK3"
      },
      "execution_count": null,
      "outputs": []
    },
    {
      "cell_type": "code",
      "source": [
        "featureExtract_Model = hub.KerasLayer(\n",
        "    feature_extractor_model,\n",
        "    input_shape=(224, 224, 3),\n",
        "    trainable=False)"
      ],
      "metadata": {
        "id": "HAFKkxmvvIkN"
      },
      "execution_count": null,
      "outputs": []
    },
    {
      "cell_type": "code",
      "source": [
        "pretrained_Model = tf.keras.Sequential([\n",
        "    norm_layer,\n",
        "    data_aug,\n",
        "    featureExtract_Model,\n",
        "    tf.keras.layers.Flatten(),\n",
        "    tf.keras.layers.Dropout(0.2),\n",
        "    tf.keras.layers.Dense(12)\n",
        "])"
      ],
      "metadata": {
        "id": "01TQFpTSv49O"
      },
      "execution_count": null,
      "outputs": []
    },
    {
      "cell_type": "code",
      "source": [
        "pretrained_Model.build((batch_size,img_height,img_width,3))"
      ],
      "metadata": {
        "id": "QzR2DvEawk6L"
      },
      "execution_count": null,
      "outputs": []
    },
    {
      "cell_type": "code",
      "source": [
        "pretrained_Model.summary()"
      ],
      "metadata": {
        "colab": {
          "base_uri": "https://localhost:8080/"
        },
        "id": "Kqh_acz-wUlZ",
        "outputId": "f8a58b84-61af-46bc-dc9a-4faa716b9814"
      },
      "execution_count": null,
      "outputs": [
        {
          "output_type": "stream",
          "name": "stdout",
          "text": [
            "Model: \"sequential_2\"\n",
            "_________________________________________________________________\n",
            " Layer (type)                Output Shape              Param #   \n",
            "=================================================================\n",
            " sequential (Sequential)     (16, 224, 224, 3)         0         \n",
            "                                                                 \n",
            " sequential_1 (Sequential)   (16, 224, 224, 3)         0         \n",
            "                                                                 \n",
            " keras_layer (KerasLayer)    (16, 1280)                2257984   \n",
            "                                                                 \n",
            " flatten (Flatten)           (16, 1280)                0         \n",
            "                                                                 \n",
            " dropout (Dropout)           (16, 1280)                0         \n",
            "                                                                 \n",
            " dense (Dense)               (16, 12)                  15372     \n",
            "                                                                 \n",
            "=================================================================\n",
            "Total params: 2,273,356\n",
            "Trainable params: 15,372\n",
            "Non-trainable params: 2,257,984\n",
            "_________________________________________________________________\n"
          ]
        }
      ]
    },
    {
      "cell_type": "code",
      "source": [
        "loss_fn = tf.keras.losses.SparseCategoricalCrossentropy(from_logits=True)"
      ],
      "metadata": {
        "id": "FqpQoIfszcMI"
      },
      "execution_count": null,
      "outputs": []
    },
    {
      "cell_type": "code",
      "source": [
        "optimizer = 'adam'\n",
        "metrics = ['accuracy']"
      ],
      "metadata": {
        "id": "5Tma5l0Szh_S"
      },
      "execution_count": null,
      "outputs": []
    },
    {
      "cell_type": "code",
      "source": [
        "pretrained_Model.compile(optimizer = tf.keras.optimizers.Adam(learning_rate=0.001), loss = loss_fn, metrics = metrics)"
      ],
      "metadata": {
        "id": "AEFQ_DM5zpX8"
      },
      "execution_count": null,
      "outputs": []
    },
    {
      "cell_type": "code",
      "source": [
        "early_stopping = tf.keras.callbacks.EarlyStopping(\n",
        "    monitor = 'val_loss',\n",
        "    mode = 'auto',\n",
        "    patience = 2,\n",
        "    min_delta = 0,\n",
        "    verbose = 0,\n",
        "    restore_best_weights = True,\n",
        ")"
      ],
      "metadata": {
        "id": "ePyX-_JszyI4"
      },
      "execution_count": null,
      "outputs": []
    },
    {
      "cell_type": "markdown",
      "source": [
        "##Training Model##"
      ],
      "metadata": {
        "id": "IBJ3D1MWvCXH"
      }
    },
    {
      "cell_type": "code",
      "source": [],
      "metadata": {
        "id": "KfltJNc4vSrT"
      },
      "execution_count": null,
      "outputs": []
    },
    {
      "cell_type": "code",
      "source": [
        "pretrained_Model.fit(train_ds, epochs = 15, callbacks = [early_stopping],\n",
        "          validation_data = val_ds)"
      ],
      "metadata": {
        "id": "9aFfU31HQSDr"
      },
      "execution_count": null,
      "outputs": []
    },
    {
      "cell_type": "markdown",
      "source": [
        "##Testing and Evaluating Model##"
      ],
      "metadata": {
        "id": "wDg3AxbUvEwU"
      }
    },
    {
      "cell_type": "code",
      "source": [
        "test_loss, test_accuracy = pretrained_Model.evaluate(test_ds)"
      ],
      "metadata": {
        "colab": {
          "base_uri": "https://localhost:8080/"
        },
        "id": "ks6YEFqo9uUw",
        "outputId": "d1da556e-0e52-4c6d-8bc3-05aa6600b2db"
      },
      "execution_count": null,
      "outputs": [
        {
          "output_type": "stream",
          "name": "stdout",
          "text": [
            "4/4 [==============================] - 20s 690ms/step - loss: 0.6646 - accuracy: 0.9182\n"
          ]
        }
      ]
    },
    {
      "cell_type": "code",
      "source": [
        "pretrained_Model.save('/content/drive/MyDrive/AI projects')"
      ],
      "metadata": {
        "id": "e_x8JZ13_out"
      },
      "execution_count": null,
      "outputs": []
    }
  ]
}